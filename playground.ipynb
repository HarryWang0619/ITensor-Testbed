{
 "cells": [
  {
   "cell_type": "markdown",
   "metadata": {},
   "source": [
    "# Test"
   ]
  },
  {
   "cell_type": "markdown",
   "metadata": {},
   "source": [
    "## Matrix Product State"
   ]
  },
  {
   "cell_type": "code",
   "execution_count": 1,
   "metadata": {},
   "outputs": [],
   "source": [
    "using CUDA\n",
    "using ITensors, ITensorMPS, Plots"
   ]
  },
  {
   "cell_type": "code",
   "execution_count": 2,
   "metadata": {},
   "outputs": [
    {
     "data": {
      "text/plain": [
       "0.21875"
      ]
     },
     "metadata": {},
     "output_type": "display_data"
    }
   ],
   "source": [
    "a = 1\n",
    "ga = 0.5\n",
    "ma = 0.25\n",
    "g = ga/a\n",
    "m_org = ma/a\n",
    "m_lat = m_org - a*g^2/8\n",
    "# x = 1/(a^2*g^2)\n",
    "# mu = 2*m_lat/(a*g^2)"
   ]
  },
  {
   "cell_type": "code",
   "execution_count": 3,
   "metadata": {},
   "outputs": [
    {
     "data": {
      "text/plain": [
       "8-element Vector{Index{Int64}}:\n",
       " (dim=2|id=489|\"S=1/2,Site,n=1\")\n",
       " (dim=2|id=709|\"S=1/2,Site,n=2\")\n",
       " (dim=2|id=708|\"S=1/2,Site,n=3\")\n",
       " (dim=2|id=175|\"S=1/2,Site,n=4\")\n",
       " (dim=2|id=36|\"S=1/2,Site,n=5\")\n",
       " (dim=2|id=783|\"S=1/2,Site,n=6\")\n",
       " (dim=2|id=680|\"S=1/2,Site,n=7\")\n",
       " (dim=2|id=930|\"S=1/2,Site,n=8\")"
      ]
     },
     "metadata": {},
     "output_type": "display_data"
    }
   ],
   "source": [
    "site_test = siteinds(\"S=1/2\", 8)"
   ]
  },
  {
   "cell_type": "code",
   "execution_count": 4,
   "metadata": {},
   "outputs": [
    {
     "data": {
      "text/plain": [
       "MPO\n",
       "[1] ((dim=5|id=184|\"Link,l=1\"), (dim=2|id=242|\"S=1/2,Site,n=1\")', (dim=2|id=242|\"S=1/2,Site,n=1\"))\n",
       "[2] ((dim=5|id=184|\"Link,l=1\"), (dim=5|id=138|\"Link,l=2\"), (dim=2|id=388|\"S=1/2,Site,n=2\")', (dim=2|id=388|\"S=1/2,Site,n=2\"))\n",
       "[3] ((dim=5|id=138|\"Link,l=2\"), (dim=5|id=12|\"Link,l=3\"), (dim=2|id=306|\"S=1/2,Site,n=3\")', (dim=2|id=306|\"S=1/2,Site,n=3\"))\n",
       "[4] ((dim=5|id=12|\"Link,l=3\"), (dim=5|id=986|\"Link,l=4\"), (dim=2|id=253|\"S=1/2,Site,n=4\")', (dim=2|id=253|\"S=1/2,Site,n=4\"))\n",
       "[5] ((dim=5|id=986|\"Link,l=4\"), (dim=5|id=910|\"Link,l=5\"), (dim=2|id=360|\"S=1/2,Site,n=5\")', (dim=2|id=360|\"S=1/2,Site,n=5\"))\n",
       "[6] ((dim=5|id=910|\"Link,l=5\"), (dim=5|id=763|\"Link,l=6\"), (dim=2|id=526|\"S=1/2,Site,n=6\")', (dim=2|id=526|\"S=1/2,Site,n=6\"))\n",
       "[7] ((dim=5|id=763|\"Link,l=6\"), (dim=5|id=388|\"Link,l=7\"), (dim=2|id=543|\"S=1/2,Site,n=7\")', (dim=2|id=543|\"S=1/2,Site,n=7\"))\n",
       "[8] ((dim=5|id=388|\"Link,l=7\"), (dim=5|id=6|\"Link,l=8\"), (dim=2|id=609|\"S=1/2,Site,n=8\")', (dim=2|id=609|\"S=1/2,Site,n=8\"))\n",
       "[9] ((dim=5|id=6|\"Link,l=8\"), (dim=4|id=104|\"Link,l=9\"), (dim=2|id=754|\"S=1/2,Site,n=9\")', (dim=2|id=754|\"S=1/2,Site,n=9\"))\n",
       "[10] ((dim=4|id=104|\"Link,l=9\"), (dim=2|id=778|\"S=1/2,Site,n=10\")', (dim=2|id=778|\"S=1/2,Site,n=10\"))\n"
      ]
     },
     "metadata": {},
     "output_type": "display_data"
    }
   ],
   "source": [
    "N = 10\n",
    "sites = siteinds(\"S=1/2\", N)\n",
    "\n",
    "os = OpSum()\n",
    "for n in 1:N-1\n",
    "    # os += (1/(4*a)), \"X\", n,\"X\", n+1\n",
    "    # os += (1/(4*a)), \"Y\", n,\"Y\", n+1\n",
    "    os += (1/(2*a)), \"S+\", n,\"S-\", n+1\n",
    "    os += (1/(2*a)), \"S+\", n+1,\"S-\", n\n",
    "end\n",
    "\n",
    "for n in 1:N\n",
    "    os += (-1)^n*m_lat/2, \"Z\", n\n",
    "end\n",
    "\n",
    "for n in 1:N-1\n",
    "    for k in 1:n\n",
    "        os += g^2*a/4*(-1)^k, \"Z\", k\n",
    "        os += g^2*a/4, \"Id\", 1\n",
    "    end\n",
    "    for j in 1:n\n",
    "        for i in 1:j-1\n",
    "            os += g^2*a/4, \"Z\", i, \"Z\", j\n",
    "            os += g^2*a/4*(-1)^(i+j), \"Id\", 1\n",
    "            os += g^2*a/4*(-1)^j, \"Z\", i\n",
    "            os += g^2*a/4*(-1)^i, \"Z\", j\n",
    "        end\n",
    "    end\n",
    "end\n",
    "\n",
    "H = MPO(os, sites)"
   ]
  },
  {
   "cell_type": "code",
   "execution_count": 5,
   "metadata": {},
   "outputs": [
    {
     "data": {
      "text/plain": [
       "MPS\n",
       "[1] ((dim=2|id=242|\"S=1/2,Site,n=1\"), (dim=10|id=819|\"Link,l=1\"))\n",
       "[2] ((dim=10|id=819|\"Link,l=1\"), (dim=2|id=388|\"S=1/2,Site,n=2\"), (dim=10|id=888|\"Link,l=2\"))\n",
       "[3] ((dim=10|id=888|\"Link,l=2\"), (dim=2|id=306|\"S=1/2,Site,n=3\"), (dim=10|id=340|\"Link,l=3\"))\n",
       "[4] ((dim=10|id=340|\"Link,l=3\"), (dim=2|id=253|\"S=1/2,Site,n=4\"), (dim=10|id=492|\"Link,l=4\"))\n",
       "[5] ((dim=10|id=492|\"Link,l=4\"), (dim=2|id=360|\"S=1/2,Site,n=5\"), (dim=10|id=903|\"Link,l=5\"))\n",
       "[6] ((dim=10|id=903|\"Link,l=5\"), (dim=2|id=526|\"S=1/2,Site,n=6\"), (dim=10|id=375|\"Link,l=6\"))\n",
       "[7] ((dim=10|id=375|\"Link,l=6\"), (dim=2|id=543|\"S=1/2,Site,n=7\"), (dim=8|id=962|\"Link,l=7\"))\n",
       "[8] ((dim=8|id=962|\"Link,l=7\"), (dim=2|id=609|\"S=1/2,Site,n=8\"), (dim=4|id=266|\"Link,l=8\"))\n",
       "[9] ((dim=4|id=266|\"Link,l=8\"), (dim=2|id=754|\"S=1/2,Site,n=9\"), (dim=2|id=986|\"Link,l=9\"))\n",
       "[10] ((dim=2|id=986|\"Link,l=9\"), (dim=2|id=778|\"S=1/2,Site,n=10\"))\n"
      ]
     },
     "metadata": {},
     "output_type": "display_data"
    }
   ],
   "source": [
    "nsweeps = 30\n",
    "maxdim = [10,20,100,100,200]\n",
    "cutoff = [1E-10]\n",
    "\n",
    "psi0_init = random_mps(sites, linkdims = 10)\n",
    "# "
   ]
  },
  {
   "cell_type": "code",
   "execution_count": 9,
   "metadata": {},
   "outputs": [
    {
     "name": "stdout",
     "output_type": "stream",
     "text": [
      "After sweep 1 energy=-3.0981832946028023  maxlinkdim=10 maxerr=9.09E-04 time=0.019\n",
      "After sweep 2 energy=-3.0987189016978203  maxlinkdim=12 maxerr=9.11E-11 time=0.004\n",
      "After sweep 3 energy=-3.098718908575706  maxlinkdim=11 maxerr=9.84E-11 time=0.004\n",
      "After sweep 4 energy=-3.098718908575785  maxlinkdim=11 maxerr=9.82E-11 time=0.011\n",
      "After sweep 5 energy=-3.0987189085760924  maxlinkdim=11 maxerr=9.67E-11 time=0.004\n",
      "After sweep 6 energy=-3.0987189085761413  maxlinkdim=11 maxerr=9.67E-11 time=0.004\n",
      "After sweep 7 energy=-3.0987189085761653  maxlinkdim=11 maxerr=9.67E-11 time=0.004\n",
      "After sweep 8 energy=-3.0987189085761715  maxlinkdim=11 maxerr=9.67E-11 time=0.007\n",
      "After sweep 9 energy=-3.0987189085761795  maxlinkdim=11 maxerr=9.67E-11 time=0.004\n",
      "After sweep 10 energy=-3.098718908576183  maxlinkdim=11 maxerr=9.67E-11 time=0.007\n",
      "After sweep 11 energy=-3.0987189085761813  maxlinkdim=11 maxerr=9.67E-11 time=0.005\n",
      "After sweep 12 energy=-3.098718908576186  maxlinkdim=11 maxerr=9.67E-11 time=0.004\n",
      "After sweep 13 energy=-3.0987189085761835  maxlinkdim=11 maxerr=9.67E-11 time=0.007\n",
      "After sweep 14 energy=-3.0987189085761853  maxlinkdim=11 maxerr=9.67E-11 time=0.004\n",
      "After sweep 15 energy=-3.0987189085761884  maxlinkdim=11 maxerr=9.67E-11 time=0.005\n",
      "After sweep 16 energy=-3.098718908576182  maxlinkdim=11 maxerr=9.67E-11 time=0.008\n",
      "After sweep 17 energy=-3.0987189085761866  maxlinkdim=11 maxerr=9.67E-11 time=0.005\n",
      "After sweep 18 energy=-3.0987189085761844  maxlinkdim=11 maxerr=9.67E-11 time=0.007\n",
      "After sweep 19 energy=-3.098718908576184  maxlinkdim=11 maxerr=9.67E-11 time=0.005\n",
      "After sweep 20 energy=-3.0987189085761884  maxlinkdim=11 maxerr=9.67E-11 time=0.004\n",
      "After sweep 21 energy=-3.0987189085761817  maxlinkdim=11 maxerr=9.67E-11 time=0.007\n",
      "After sweep 22 energy=-3.0987189085761857  maxlinkdim=11 maxerr=9.67E-11 time=0.005\n",
      "After sweep 23 energy=-3.098718908576184  maxlinkdim=11 maxerr=9.67E-11 time=0.005\n",
      "After sweep 24 energy=-3.0987189085761853  maxlinkdim=11 maxerr=9.67E-11 time=0.008\n",
      "After sweep 25 energy=-3.0987189085761835  maxlinkdim=11 maxerr=9.67E-11 time=0.005\n",
      "After sweep 26 energy=-3.098718908576186  maxlinkdim=11 maxerr=9.67E-11 time=0.007\n",
      "After sweep 27 energy=-3.0987189085761853  maxlinkdim=11 maxerr=9.67E-11 time=0.005\n",
      "After sweep 28 energy=-3.098718908576185  maxlinkdim=11 maxerr=9.67E-11 time=0.004\n",
      "After sweep 29 energy=-3.098718908576185  maxlinkdim=11 maxerr=9.67E-11 time=0.007\n",
      "After sweep 30 energy=-3.098718908576182  maxlinkdim=11 maxerr=9.67E-11 time=0.006\n"
     ]
    },
    {
     "data": {
      "text/plain": [
       "(-3.098718908576182, MPS\n",
       "[1] ((dim=2|id=24|\"Link,l=1\"), (dim=2|id=242|\"S=1/2,Site,n=1\"))\n",
       "[2] ((dim=4|id=575|\"Link,l=2\"), (dim=2|id=388|\"S=1/2,Site,n=2\"), (dim=2|id=24|\"Link,l=1\"))\n",
       "[3] ((dim=2|id=306|\"S=1/2,Site,n=3\"), (dim=8|id=154|\"Link,l=3\"), (dim=4|id=575|\"Link,l=2\"))\n",
       "[4] ((dim=2|id=253|\"S=1/2,Site,n=4\"), (dim=11|id=801|\"Link,l=4\"), (dim=8|id=154|\"Link,l=3\"))\n",
       "[5] ((dim=2|id=360|\"S=1/2,Site,n=5\"), (dim=11|id=455|\"Link,l=5\"), (dim=11|id=801|\"Link,l=4\"))\n",
       "[6] ((dim=2|id=526|\"S=1/2,Site,n=6\"), (dim=11|id=509|\"Link,l=6\"), (dim=11|id=455|\"Link,l=5\"))\n",
       "[7] ((dim=2|id=543|\"S=1/2,Site,n=7\"), (dim=8|id=305|\"Link,l=7\"), (dim=11|id=509|\"Link,l=6\"))\n",
       "[8] ((dim=2|id=609|\"S=1/2,Site,n=8\"), (dim=4|id=435|\"Link,l=8\"), (dim=8|id=305|\"Link,l=7\"))\n",
       "[9] ((dim=2|id=754|\"S=1/2,Site,n=9\"), (dim=2|id=139|\"Link,l=9\"), (dim=4|id=435|\"Link,l=8\"))\n",
       "[10] ((dim=2|id=778|\"S=1/2,Site,n=10\"), (dim=2|id=139|\"Link,l=9\"))\n",
       ")"
      ]
     },
     "metadata": {},
     "output_type": "display_data"
    }
   ],
   "source": [
    "energy0,psi0 = dmrg(H,psi0_init;nsweeps,maxdim,cutoff)"
   ]
  },
  {
   "cell_type": "code",
   "execution_count": 7,
   "metadata": {},
   "outputs": [],
   "source": [
    "# psi_contracted = contract(psi)"
   ]
  },
  {
   "cell_type": "code",
   "execution_count": 10,
   "metadata": {},
   "outputs": [
    {
     "name": "stdout",
     "output_type": "stream",
     "text": [
      "After sweep 1 energy=-2.7427972915481655  maxlinkdim=10 maxerr=5.76E-04 time=0.254\n",
      "After sweep 2 energy=-2.754175329383427  maxlinkdim=17 maxerr=7.84E-11 time=0.006\n",
      "After sweep 3 energy=-2.754176009067117  maxlinkdim=13 maxerr=8.45E-11 time=0.020\n",
      "After sweep 4 energy=-2.7541760099555934  maxlinkdim=13 maxerr=9.04E-11 time=0.006\n",
      "After sweep 5 energy=-2.754176009954808  maxlinkdim=13 maxerr=7.22E-11 time=0.006\n",
      "After sweep 6 energy=-2.754176009954813  maxlinkdim=13 maxerr=7.06E-11 time=0.014\n",
      "After sweep 7 energy=-2.7541760099548105  maxlinkdim=13 maxerr=7.06E-11 time=0.006\n",
      "After sweep 8 energy=-2.7541760099548127  maxlinkdim=13 maxerr=7.06E-11 time=0.005\n",
      "After sweep 9 energy=-2.754176009954811  maxlinkdim=13 maxerr=7.06E-11 time=0.009\n",
      "After sweep 10 energy=-2.7541760099548123  maxlinkdim=13 maxerr=7.06E-11 time=0.005\n",
      "After sweep 11 energy=-2.7541760099548123  maxlinkdim=13 maxerr=7.06E-11 time=0.008\n",
      "After sweep 12 energy=-2.7541760099548105  maxlinkdim=13 maxerr=7.06E-11 time=0.005\n",
      "After sweep 13 energy=-2.754176009954812  maxlinkdim=13 maxerr=7.06E-11 time=0.006\n",
      "After sweep 14 energy=-2.754176009954815  maxlinkdim=13 maxerr=7.06E-11 time=0.008\n",
      "After sweep 15 energy=-2.7541760099548074  maxlinkdim=13 maxerr=7.06E-11 time=0.006\n",
      "After sweep 16 energy=-2.7541760099548105  maxlinkdim=13 maxerr=7.06E-11 time=0.009\n",
      "After sweep 17 energy=-2.7541760099548105  maxlinkdim=13 maxerr=7.06E-11 time=0.006\n",
      "After sweep 18 energy=-2.7541760099548114  maxlinkdim=13 maxerr=7.06E-11 time=0.008\n",
      "After sweep 19 energy=-2.7541760099548114  maxlinkdim=13 maxerr=7.06E-11 time=0.005\n",
      "After sweep 20 energy=-2.75417600995481  maxlinkdim=13 maxerr=7.06E-11 time=0.008\n",
      "After sweep 21 energy=-2.754176009954807  maxlinkdim=13 maxerr=7.06E-11 time=0.006\n",
      "After sweep 22 energy=-2.75417600995481  maxlinkdim=13 maxerr=7.06E-11 time=0.008\n",
      "After sweep 23 energy=-2.754176009954811  maxlinkdim=13 maxerr=7.06E-11 time=0.005\n",
      "After sweep 24 energy=-2.7541760099548074  maxlinkdim=13 maxerr=7.06E-11 time=0.008\n",
      "After sweep 25 energy=-2.7541760099548114  maxlinkdim=13 maxerr=7.06E-11 time=0.006\n",
      "After sweep 26 energy=-2.7541760099548087  maxlinkdim=13 maxerr=7.06E-11 time=0.005\n",
      "After sweep 27 energy=-2.7541760099548114  maxlinkdim=13 maxerr=7.06E-11 time=0.009\n",
      "After sweep 28 energy=-2.754176009954813  maxlinkdim=13 maxerr=7.06E-11 time=0.006\n",
      "After sweep 29 energy=-2.754176009954813  maxlinkdim=13 maxerr=7.06E-11 time=0.009\n",
      "After sweep 30 energy=-2.7541760099548105  maxlinkdim=13 maxerr=7.06E-11 time=0.005\n"
     ]
    },
    {
     "data": {
      "text/plain": [
       "(-2.7541760099548105, MPS\n",
       "[1] ((dim=2|id=477|\"Link,l=1\"), (dim=2|id=242|\"S=1/2,Site,n=1\"))\n",
       "[2] ((dim=4|id=963|\"Link,l=2\"), (dim=2|id=388|\"S=1/2,Site,n=2\"), (dim=2|id=477|\"Link,l=1\"))\n",
       "[3] ((dim=2|id=306|\"S=1/2,Site,n=3\"), (dim=8|id=272|\"Link,l=3\"), (dim=4|id=963|\"Link,l=2\"))\n",
       "[4] ((dim=2|id=253|\"S=1/2,Site,n=4\"), (dim=11|id=38|\"Link,l=4\"), (dim=8|id=272|\"Link,l=3\"))\n",
       "[5] ((dim=2|id=360|\"S=1/2,Site,n=5\"), (dim=13|id=341|\"Link,l=5\"), (dim=11|id=38|\"Link,l=4\"))\n",
       "[6] ((dim=2|id=526|\"S=1/2,Site,n=6\"), (dim=10|id=332|\"Link,l=6\"), (dim=13|id=341|\"Link,l=5\"))\n",
       "[7] ((dim=2|id=543|\"S=1/2,Site,n=7\"), (dim=8|id=22|\"Link,l=7\"), (dim=10|id=332|\"Link,l=6\"))\n",
       "[8] ((dim=2|id=609|\"S=1/2,Site,n=8\"), (dim=4|id=987|\"Link,l=8\"), (dim=8|id=22|\"Link,l=7\"))\n",
       "[9] ((dim=2|id=754|\"S=1/2,Site,n=9\"), (dim=2|id=174|\"Link,l=9\"), (dim=4|id=987|\"Link,l=8\"))\n",
       "[10] ((dim=2|id=778|\"S=1/2,Site,n=10\"), (dim=2|id=174|\"Link,l=9\"))\n",
       ")"
      ]
     },
     "metadata": {},
     "output_type": "display_data"
    }
   ],
   "source": [
    "psi1_init = random_mps(sites, linkdims = 10)\n",
    "energy1,psi1 = dmrg(H,[psi0],psi1_init;nsweeps,maxdim,cutoff)"
   ]
  },
  {
   "cell_type": "code",
   "execution_count": 11,
   "metadata": {},
   "outputs": [
    {
     "data": {
      "text/plain": [
       "MPS\n",
       "[1] ((dim=2|id=242|\"S=1/2,Site,n=1\"), (dim=2|id=477|\"Link,l=1\"))\n",
       "[2] ((dim=4|id=963|\"Link,l=2\"), (dim=2|id=388|\"S=1/2,Site,n=2\"), (dim=2|id=477|\"Link,l=1\"))\n",
       "[3] ((dim=2|id=306|\"S=1/2,Site,n=3\"), (dim=8|id=272|\"Link,l=3\"), (dim=4|id=963|\"Link,l=2\"))\n",
       "[4] ((dim=2|id=253|\"S=1/2,Site,n=4\"), (dim=11|id=38|\"Link,l=4\"), (dim=8|id=272|\"Link,l=3\"))\n",
       "[5] ((dim=2|id=360|\"S=1/2,Site,n=5\"), (dim=13|id=341|\"Link,l=5\"), (dim=11|id=38|\"Link,l=4\"))\n",
       "[6] ((dim=2|id=526|\"S=1/2,Site,n=6\"), (dim=10|id=332|\"Link,l=6\"), (dim=13|id=341|\"Link,l=5\"))\n",
       "[7] ((dim=2|id=543|\"S=1/2,Site,n=7\"), (dim=8|id=22|\"Link,l=7\"), (dim=10|id=332|\"Link,l=6\"))\n",
       "[8] ((dim=2|id=609|\"S=1/2,Site,n=8\"), (dim=4|id=987|\"Link,l=8\"), (dim=8|id=22|\"Link,l=7\"))\n",
       "[9] ((dim=2|id=754|\"S=1/2,Site,n=9\"), (dim=2|id=174|\"Link,l=9\"), (dim=4|id=987|\"Link,l=8\"))\n",
       "[10] ((dim=2|id=778|\"S=1/2,Site,n=10\"), (dim=2|id=174|\"Link,l=9\"))\n"
      ]
     },
     "metadata": {},
     "output_type": "display_data"
    }
   ],
   "source": [
    "psi1_copy = copy(psi1)\n",
    "op_sm = op(\"S-\", sites[1])\n",
    "\n",
    "# try apply op_sm to psi1_copy\n",
    "apply(op_sm, psi1_copy)"
   ]
  },
  {
   "cell_type": "markdown",
   "metadata": {},
   "source": [
    "## Quantum Number Conserving"
   ]
  },
  {
   "cell_type": "code",
   "execution_count": 9,
   "metadata": {},
   "outputs": [],
   "source": [
    "using BenchmarkTools"
   ]
  },
  {
   "cell_type": "code",
   "execution_count": 10,
   "metadata": {},
   "outputs": [
    {
     "data": {
      "text/plain": [
       "BenchmarkTools.Trial: 10000 samples with 9 evaluations.\n",
       " Range \u001b[90m(\u001b[39m\u001b[36m\u001b[1mmin\u001b[22m\u001b[39m … \u001b[35mmax\u001b[39m\u001b[90m):  \u001b[39m\u001b[36m\u001b[1m2.356 μs\u001b[22m\u001b[39m … \u001b[35m 4.178 ms\u001b[39m  \u001b[90m┊\u001b[39m GC \u001b[90m(\u001b[39mmin … max\u001b[90m): \u001b[39m 0.00% … 99.32%\n",
       " Time  \u001b[90m(\u001b[39m\u001b[34m\u001b[1mmedian\u001b[22m\u001b[39m\u001b[90m):     \u001b[39m\u001b[34m\u001b[1m4.911 μs              \u001b[22m\u001b[39m\u001b[90m┊\u001b[39m GC \u001b[90m(\u001b[39mmedian\u001b[90m):    \u001b[39m 0.00%\n",
       " Time  \u001b[90m(\u001b[39m\u001b[32m\u001b[1mmean\u001b[22m\u001b[39m ± \u001b[32mσ\u001b[39m\u001b[90m):   \u001b[39m\u001b[32m\u001b[1m9.954 μs\u001b[22m\u001b[39m ± \u001b[32m59.634 μs\u001b[39m  \u001b[90m┊\u001b[39m GC \u001b[90m(\u001b[39mmean ± σ\u001b[90m):  \u001b[39m11.35% ±  1.99%\n",
       "\n",
       "  \u001b[39m█\u001b[39m▁\u001b[39m█\u001b[34m▇\u001b[39m\u001b[39m▃\u001b[39m▁\u001b[39m \u001b[39m \u001b[39m \u001b[32m \u001b[39m\u001b[39m▅\u001b[39m▄\u001b[39m \u001b[39m \u001b[39m \u001b[39m▃\u001b[39m▆\u001b[39m▅\u001b[39m▁\u001b[39m▁\u001b[39m \u001b[39m \u001b[39m▁\u001b[39m \u001b[39m \u001b[39m \u001b[39m \u001b[39m \u001b[39m \u001b[39m \u001b[39m \u001b[39m \u001b[39m \u001b[39m \u001b[39m \u001b[39m \u001b[39m \u001b[39m \u001b[39m \u001b[39m \u001b[39m \u001b[39m \u001b[39m \u001b[39m \u001b[39m \u001b[39m \u001b[39m \u001b[39m \u001b[39m \u001b[39m \u001b[39m \u001b[39m \u001b[39m \u001b[39m \u001b[39m \u001b[39m \u001b[39m \u001b[39m \u001b[39m \u001b[39m▂\n",
       "  \u001b[39m█\u001b[39m█\u001b[39m█\u001b[34m█\u001b[39m\u001b[39m█\u001b[39m█\u001b[39m▇\u001b[39m▆\u001b[39m▅\u001b[32m▇\u001b[39m\u001b[39m█\u001b[39m█\u001b[39m█\u001b[39m█\u001b[39m▇\u001b[39m█\u001b[39m█\u001b[39m█\u001b[39m█\u001b[39m█\u001b[39m▇\u001b[39m█\u001b[39m█\u001b[39m▇\u001b[39m▇\u001b[39m▆\u001b[39m▇\u001b[39m▇\u001b[39m▆\u001b[39m▅\u001b[39m▅\u001b[39m▅\u001b[39m▄\u001b[39m▆\u001b[39m▆\u001b[39m▄\u001b[39m▅\u001b[39m▄\u001b[39m▄\u001b[39m▄\u001b[39m▆\u001b[39m▃\u001b[39m▄\u001b[39m▄\u001b[39m▆\u001b[39m▅\u001b[39m▅\u001b[39m▄\u001b[39m▅\u001b[39m▄\u001b[39m▆\u001b[39m▆\u001b[39m▅\u001b[39m▅\u001b[39m▃\u001b[39m▄\u001b[39m▅\u001b[39m▅\u001b[39m \u001b[39m█\n",
       "  2.36 μs\u001b[90m      \u001b[39m\u001b[90mHistogram: \u001b[39m\u001b[90m\u001b[1mlog(\u001b[22m\u001b[39m\u001b[90mfrequency\u001b[39m\u001b[90m\u001b[1m)\u001b[22m\u001b[39m\u001b[90m by time\u001b[39m     50.2 μs \u001b[0m\u001b[1m<\u001b[22m\n",
       "\n",
       " Memory estimate\u001b[90m: \u001b[39m\u001b[33m13.68 KiB\u001b[39m, allocs estimate\u001b[90m: \u001b[39m\u001b[33m113\u001b[39m."
      ]
     },
     "metadata": {},
     "output_type": "display_data"
    }
   ],
   "source": [
    "@benchmark siteqnc = siteinds(\"S=1/2\", 5, conserve_qns = true)"
   ]
  },
  {
   "cell_type": "code",
   "execution_count": 11,
   "metadata": {},
   "outputs": [
    {
     "data": {
      "text/plain": [
       "BenchmarkTools.Trial: 10000 samples with 3 evaluations.\n",
       " Range \u001b[90m(\u001b[39m\u001b[36m\u001b[1mmin\u001b[22m\u001b[39m … \u001b[35mmax\u001b[39m\u001b[90m):  \u001b[39m\u001b[36m\u001b[1m 9.900 μs\u001b[22m\u001b[39m … \u001b[35m 11.745 ms\u001b[39m  \u001b[90m┊\u001b[39m GC \u001b[90m(\u001b[39mmin … max\u001b[90m): \u001b[39m0.00% … 69.07%\n",
       " Time  \u001b[90m(\u001b[39m\u001b[34m\u001b[1mmedian\u001b[22m\u001b[39m\u001b[90m):     \u001b[39m\u001b[34m\u001b[1m10.767 μs               \u001b[22m\u001b[39m\u001b[90m┊\u001b[39m GC \u001b[90m(\u001b[39mmedian\u001b[90m):    \u001b[39m0.00%\n",
       " Time  \u001b[90m(\u001b[39m\u001b[32m\u001b[1mmean\u001b[22m\u001b[39m ± \u001b[32mσ\u001b[39m\u001b[90m):   \u001b[39m\u001b[32m\u001b[1m15.922 μs\u001b[22m\u001b[39m ± \u001b[32m118.929 μs\u001b[39m  \u001b[90m┊\u001b[39m GC \u001b[90m(\u001b[39mmean ± σ\u001b[90m):  \u001b[39m5.09% ±  0.69%\n",
       "\n",
       "  \u001b[39m▆\u001b[34m█\u001b[39m\u001b[39m▄\u001b[39m▃\u001b[39m▃\u001b[39m▂\u001b[39m▁\u001b[39m \u001b[39m \u001b[32m▁\u001b[39m\u001b[39m▂\u001b[39m▂\u001b[39m▂\u001b[39m▁\u001b[39m▂\u001b[39m▂\u001b[39m▁\u001b[39m \u001b[39m \u001b[39m \u001b[39m \u001b[39m \u001b[39m \u001b[39m \u001b[39m \u001b[39m \u001b[39m▁\u001b[39m▂\u001b[39m▂\u001b[39m▃\u001b[39m▂\u001b[39m \u001b[39m \u001b[39m \u001b[39m \u001b[39m \u001b[39m \u001b[39m \u001b[39m \u001b[39m \u001b[39m \u001b[39m \u001b[39m \u001b[39m \u001b[39m \u001b[39m \u001b[39m \u001b[39m \u001b[39m \u001b[39m \u001b[39m \u001b[39m \u001b[39m \u001b[39m \u001b[39m \u001b[39m \u001b[39m \u001b[39m \u001b[39m \u001b[39m \u001b[39m \u001b[39m▂\n",
       "  \u001b[39m█\u001b[34m█\u001b[39m\u001b[39m█\u001b[39m█\u001b[39m█\u001b[39m█\u001b[39m█\u001b[39m█\u001b[39m█\u001b[32m█\u001b[39m\u001b[39m█\u001b[39m█\u001b[39m█\u001b[39m█\u001b[39m█\u001b[39m█\u001b[39m█\u001b[39m█\u001b[39m▇\u001b[39m▆\u001b[39m▃\u001b[39m▅\u001b[39m▅\u001b[39m▅\u001b[39m▆\u001b[39m█\u001b[39m█\u001b[39m█\u001b[39m█\u001b[39m█\u001b[39m█\u001b[39m█\u001b[39m▇\u001b[39m▇\u001b[39m█\u001b[39m▇\u001b[39m▇\u001b[39m▆\u001b[39m▄\u001b[39m▅\u001b[39m▅\u001b[39m▅\u001b[39m▄\u001b[39m▃\u001b[39m▅\u001b[39m▁\u001b[39m▅\u001b[39m▅\u001b[39m▄\u001b[39m▅\u001b[39m▅\u001b[39m▄\u001b[39m▄\u001b[39m▁\u001b[39m▄\u001b[39m▃\u001b[39m▁\u001b[39m▃\u001b[39m▃\u001b[39m▄\u001b[39m \u001b[39m█\n",
       "  9.9 μs\u001b[90m        \u001b[39m\u001b[90mHistogram: \u001b[39m\u001b[90m\u001b[1mlog(\u001b[22m\u001b[39m\u001b[90mfrequency\u001b[39m\u001b[90m\u001b[1m)\u001b[22m\u001b[39m\u001b[90m by time\u001b[39m      50.5 μs \u001b[0m\u001b[1m<\u001b[22m\n",
       "\n",
       " Memory estimate\u001b[90m: \u001b[39m\u001b[33m13.96 KiB\u001b[39m, allocs estimate\u001b[90m: \u001b[39m\u001b[33m123\u001b[39m."
      ]
     },
     "metadata": {},
     "output_type": "display_data"
    }
   ],
   "source": [
    "@benchmark siteqnc = cu(siteinds(\"S=1/2\", 5, conserve_qns = true))"
   ]
  },
  {
   "cell_type": "code",
   "execution_count": 12,
   "metadata": {},
   "outputs": [
    {
     "data": {
      "text/plain": [
       "5-element CuArray{Index{Vector{Pair{QN, Int64}}}, 1, CUDA.DeviceMemory}:\n",
       " (dim=2|id=10|\"S=1/2,Site,n=1\") <Out>\n",
       " 1: QN(\"Sz\",1) => 1\n",
       " 2: QN(\"Sz\",-1) => 1\n",
       " (dim=2|id=804|\"S=1/2,Site,n=2\") <Out>\n",
       " 1: QN(\"Sz\",1) => 1\n",
       " 2: QN(\"Sz\",-1) => 1\n",
       " (dim=2|id=686|\"S=1/2,Site,n=3\") <Out>\n",
       " 1: QN(\"Sz\",1) => 1\n",
       " 2: QN(\"Sz\",-1) => 1\n",
       " (dim=2|id=271|\"S=1/2,Site,n=4\") <Out>\n",
       " 1: QN(\"Sz\",1) => 1\n",
       " 2: QN(\"Sz\",-1) => 1\n",
       " (dim=2|id=604|\"S=1/2,Site,n=5\") <Out>\n",
       " 1: QN(\"Sz\",1) => 1\n",
       " 2: QN(\"Sz\",-1) => 1"
      ]
     },
     "metadata": {},
     "output_type": "display_data"
    }
   ],
   "source": [
    "siteqnc = cu(siteinds(\"S=1/2\", 5, conserve_qns = true))\n",
    "siteqnc"
   ]
  },
  {
   "cell_type": "markdown",
   "metadata": {},
   "source": [
    "# PDF of Schwinger Model with Time evolving MPS"
   ]
  },
  {
   "cell_type": "code",
   "execution_count": 13,
   "metadata": {},
   "outputs": [
    {
     "name": "stdout",
     "output_type": "stream",
     "text": [
      "2\n",
      "4\n",
      "6\n",
      "8\n"
     ]
    }
   ],
   "source": [
    "for j in 1:9-1\n",
    "    # skip if j is even\n",
    "    if j%2 != 0\n",
    "        continue\n",
    "    end\n",
    "    println(j)\n",
    "end"
   ]
  },
  {
   "cell_type": "code",
   "execution_count": 25,
   "metadata": {},
   "outputs": [
    {
     "data": {
      "text/plain": [
       "time_evolve_d0 (generic function with 2 methods)"
      ]
     },
     "metadata": {},
     "output_type": "display_data"
    }
   ],
   "source": [
    "function time_evolve_d0(h, e_h, delta_t, site, d, cutoff = 1E-8)\n",
    "    \"\"\"\n",
    "    site: the full site\n",
    "    delta_t: time step\n",
    "    d: just the number d in equation 8. In paper, d is even, but here d is odd since there is no site 0.\n",
    "    h: the hadron state, first eigenstate of the Hamiltonian as MPS.\n",
    "    e_h: energy eigenvalue of corresponding h state\n",
    "    delta_t: a number of our choice\n",
    "    \"\"\"\n",
    "    t_d = d/2*delta_t\n",
    "\n",
    "    # step 0: the e^iHt_d term: H here can be intepreted as e_h\n",
    "    phase = exp(-im*e_h*t_d)\n",
    "\n",
    "    # step 1: apply the Pi (k<d) (-i sigma_z^k)\n",
    "    op_zs = ITensor[]\n",
    "    for k in 1:d-1\n",
    "        op_z = -im*op(\"Z\", site[k])\n",
    "        push!(op_zs, op_z)\n",
    "    end\n",
    "\n",
    "    # step 1.5: apply the sigma_d^+ term\n",
    "    op_sp = op(\"S+\", site[d])\n",
    "\n",
    "    # step 2: apply the e^-H_d-1 delta_t, e^-H_d-3 delta_t, ... e^-H_3 delta_t, e^-H_1 delta_t term\n",
    "    gates = ITensor[]\n",
    "    for j in 1:d-1\n",
    "        # skip if j is even\n",
    "        if j%2 == 0\n",
    "            continue\n",
    "        end\n",
    "        s1 = site[j+1] # 1, 3, 5, 7...' th site, but we add 1 to make it 2, 4, 6, 8...\n",
    "        s2 = site[j+2]\n",
    "\n",
    "        h_n = 1/(2*a)*op(\"S+\", s1)*op(\"S-\", s2) \n",
    "        # + 1/(2*a)*op(\"S+\", s2)*op(\"S-\", s1) \n",
    "            + (-1)^j*m_lat/2*op(\"Z\", s1) \n",
    "            # + (-1)^(j+1)*m_lat/2*op(\"Z\", s2)\n",
    "        \n",
    "        # for k in 1:j\n",
    "        #     h_n += g^2*a/4*(-1)^k*op(\"Z\", k)\n",
    "        #     h_n += g^2*a/4*op(\"Id\", 1)\n",
    "        #     for i in 1:k-1\n",
    "        #         h_n += g^2*a/4*op(\"Z\", i)*op(\"Z\", k)\n",
    "        #         h_n += g^2*a/4*(-1)^(i+k)*op(\"Id\", 1)\n",
    "        #         h_n += g^2*a/4*(-1)^k*op(\"Z\", i)\n",
    "        #         h_n += g^2*a/4*(-1)^i*op(\"Z\", k)\n",
    "        #     end\n",
    "        # end\n",
    "        G_j = exp(-im*h_n*delta_t)\n",
    "        push!(gates, G_j)\n",
    "    end\n",
    "\n",
    "    # step 3: apply the Pi (k'<0) (i_sigma_z^k') term\n",
    "\n",
    "    # step 3.5: apply the sigma_0^- term\n",
    "    op_sm = op(\"S-\", site[1])\n",
    "\n",
    "    # step final: calculate phase * <h|op_z's, op_sp, gates, op_sm |h>\n",
    "    # phase is step0, op_z's is step1, op_sp is step1.5, gates is step2, op_sm is step3.5.\n",
    "    h_transformed = phase * h\n",
    "    # h_transformed = apply(op_sm, h_transformed; cutoff)\n",
    "    # for g in gates\n",
    "    #     h_transformed = apply(h_transformed, g)\n",
    "    # end\n",
    "    # h_transformed = apply(op_sp, h_transformed; cutoff)\n",
    "    # for op_z in reverse(op_zs)\n",
    "    #     h_transformed = apply(h_transformed, op_z)\n",
    "    # end\n",
    "    \n",
    "    # expectation value of h\n",
    "    return inner(h, h_transformed)\n",
    "\n",
    "end\n",
    "    "
   ]
  },
  {
   "cell_type": "code",
   "execution_count": 27,
   "metadata": {},
   "outputs": [
    {
     "data": {
      "text/plain": [
       "0.7721719937296565 + 0.6354135756336724im"
      ]
     },
     "metadata": {},
     "output_type": "display_data"
    }
   ],
   "source": [
    "h_input = psi1\n",
    "e_h_input = energy1\n",
    "delta_t_input = 0.1\n",
    "site_input = sites\n",
    "d_input = 5\n",
    "\n",
    "time_evolve_d0(h_input, e_h_input, delta_t_input, site_input, d_input)"
   ]
  }
 ],
 "metadata": {
  "kernelspec": {
   "display_name": "Julia 1.11.0",
   "language": "julia",
   "name": "julia-1.11"
  },
  "language_info": {
   "file_extension": ".jl",
   "mimetype": "application/julia",
   "name": "julia",
   "version": "1.11.0"
  }
 },
 "nbformat": 4,
 "nbformat_minor": 2
}
