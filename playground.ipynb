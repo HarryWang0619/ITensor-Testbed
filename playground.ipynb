{
 "cells": [
  {
   "cell_type": "markdown",
   "metadata": {},
   "source": [
    "# Test"
   ]
  },
  {
   "cell_type": "markdown",
   "metadata": {},
   "source": [
    "## Matrix Product State"
   ]
  },
  {
   "cell_type": "code",
   "execution_count": 13,
   "metadata": {},
   "outputs": [],
   "source": [
    "using CUDA\n",
    "using ITensors, ITensorMPS, Plots"
   ]
  },
  {
   "cell_type": "code",
   "execution_count": 14,
   "metadata": {},
   "outputs": [
    {
     "data": {
      "text/plain": [
       "0.21875"
      ]
     },
     "metadata": {},
     "output_type": "display_data"
    }
   ],
   "source": [
    "a = 1\n",
    "ga = 0.5\n",
    "ma = 0.25\n",
    "g = ga/a\n",
    "m_org = ma/a\n",
    "m_lat = m_org - a*g^2/8\n",
    "# x = 1/(a^2*g^2)\n",
    "# mu = 2*m_lat/(a*g^2)"
   ]
  },
  {
   "cell_type": "code",
   "execution_count": 15,
   "metadata": {},
   "outputs": [
    {
     "data": {
      "text/plain": [
       "MPO\n",
       "[1] ((dim=5|id=927|\"Link,l=1\"), (dim=2|id=434|\"S=1/2,Site,n=1\")', (dim=2|id=434|\"S=1/2,Site,n=1\"))\n",
       "[2] ((dim=5|id=927|\"Link,l=1\"), (dim=5|id=737|\"Link,l=2\"), (dim=2|id=399|\"S=1/2,Site,n=2\")', (dim=2|id=399|\"S=1/2,Site,n=2\"))\n",
       "[3] ((dim=5|id=737|\"Link,l=2\"), (dim=5|id=849|\"Link,l=3\"), (dim=2|id=103|\"S=1/2,Site,n=3\")', (dim=2|id=103|\"S=1/2,Site,n=3\"))\n",
       "[4] ((dim=5|id=849|\"Link,l=3\"), (dim=5|id=722|\"Link,l=4\"), (dim=2|id=612|\"S=1/2,Site,n=4\")', (dim=2|id=612|\"S=1/2,Site,n=4\"))\n",
       "[5] ((dim=5|id=722|\"Link,l=4\"), (dim=5|id=742|\"Link,l=5\"), (dim=2|id=288|\"S=1/2,Site,n=5\")', (dim=2|id=288|\"S=1/2,Site,n=5\"))\n",
       "[6] ((dim=5|id=742|\"Link,l=5\"), (dim=5|id=333|\"Link,l=6\"), (dim=2|id=112|\"S=1/2,Site,n=6\")', (dim=2|id=112|\"S=1/2,Site,n=6\"))\n",
       "[7] ((dim=5|id=333|\"Link,l=6\"), (dim=5|id=161|\"Link,l=7\"), (dim=2|id=884|\"S=1/2,Site,n=7\")', (dim=2|id=884|\"S=1/2,Site,n=7\"))\n",
       "[8] ((dim=5|id=161|\"Link,l=7\"), (dim=5|id=279|\"Link,l=8\"), (dim=2|id=987|\"S=1/2,Site,n=8\")', (dim=2|id=987|\"S=1/2,Site,n=8\"))\n",
       "[9] ((dim=5|id=279|\"Link,l=8\"), (dim=4|id=774|\"Link,l=9\"), (dim=2|id=491|\"S=1/2,Site,n=9\")', (dim=2|id=491|\"S=1/2,Site,n=9\"))\n",
       "[10] ((dim=4|id=774|\"Link,l=9\"), (dim=2|id=275|\"S=1/2,Site,n=10\")', (dim=2|id=275|\"S=1/2,Site,n=10\"))\n"
      ]
     },
     "metadata": {},
     "output_type": "display_data"
    }
   ],
   "source": [
    "N = 10\n",
    "sites = siteinds(\"S=1/2\", N)\n",
    "\n",
    "os = OpSum()\n",
    "for n in 1:N-1\n",
    "    # os += (1/(4*a)), \"X\", n,\"X\", n+1\n",
    "    # os += (1/(4*a)), \"Y\", n,\"Y\", n+1\n",
    "    os += (1/(2*a)), \"S+\", n,\"S-\", n+1\n",
    "    os += (1/(2*a)), \"S+\", n+1,\"S-\", n\n",
    "end\n",
    "\n",
    "for n in 1:N\n",
    "    os += (-1)^n*m_lat/2, \"Z\", n\n",
    "end\n",
    "\n",
    "for n in 1:N-1\n",
    "    for k in 1:n\n",
    "        os += g^2*a/4*(-1)^k, \"Z\", k\n",
    "        os += g^2*a/4, \"Id\", 1\n",
    "    end\n",
    "    for j in 1:n\n",
    "        for i in 1:j-1\n",
    "            os += g^2*a/4, \"Z\", i, \"Z\", j\n",
    "            os += g^2*a/4*(-1)^(i+j), \"Id\", 1\n",
    "            os += g^2*a/4*(-1)^j, \"Z\", i\n",
    "            os += g^2*a/4*(-1)^i, \"Z\", j\n",
    "        end\n",
    "    end\n",
    "end\n",
    "\n",
    "H = cu(MPO(os, sites))"
   ]
  },
  {
   "cell_type": "code",
   "execution_count": 16,
   "metadata": {},
   "outputs": [
    {
     "data": {
      "text/plain": [
       "MPS\n",
       "[1] ((dim=2|id=434|\"S=1/2,Site,n=1\"), (dim=10|id=752|\"Link,l=1\"))\n",
       "[2] ((dim=10|id=752|\"Link,l=1\"), (dim=2|id=399|\"S=1/2,Site,n=2\"), (dim=10|id=971|\"Link,l=2\"))\n",
       "[3] ((dim=10|id=971|\"Link,l=2\"), (dim=2|id=103|\"S=1/2,Site,n=3\"), (dim=10|id=275|\"Link,l=3\"))\n",
       "[4] ((dim=10|id=275|\"Link,l=3\"), (dim=2|id=612|\"S=1/2,Site,n=4\"), (dim=10|id=534|\"Link,l=4\"))\n",
       "[5] ((dim=10|id=534|\"Link,l=4\"), (dim=2|id=288|\"S=1/2,Site,n=5\"), (dim=10|id=386|\"Link,l=5\"))\n",
       "[6] ((dim=10|id=386|\"Link,l=5\"), (dim=2|id=112|\"S=1/2,Site,n=6\"), (dim=10|id=599|\"Link,l=6\"))\n",
       "[7] ((dim=10|id=599|\"Link,l=6\"), (dim=2|id=884|\"S=1/2,Site,n=7\"), (dim=8|id=717|\"Link,l=7\"))\n",
       "[8] ((dim=8|id=717|\"Link,l=7\"), (dim=2|id=987|\"S=1/2,Site,n=8\"), (dim=4|id=384|\"Link,l=8\"))\n",
       "[9] ((dim=4|id=384|\"Link,l=8\"), (dim=2|id=491|\"S=1/2,Site,n=9\"), (dim=2|id=935|\"Link,l=9\"))\n",
       "[10] ((dim=2|id=935|\"Link,l=9\"), (dim=2|id=275|\"S=1/2,Site,n=10\"))\n"
      ]
     },
     "metadata": {},
     "output_type": "display_data"
    }
   ],
   "source": [
    "nsweeps = 30\n",
    "maxdim = [10,20,100,100,200]\n",
    "cutoff = [1E-10]\n",
    "\n",
    "psi0_init = cu(random_mps(sites, linkdims = 10))\n",
    "# "
   ]
  },
  {
   "cell_type": "code",
   "execution_count": 17,
   "metadata": {},
   "outputs": [
    {
     "name": "stdout",
     "output_type": "stream",
     "text": [
      "After sweep 1 energy=-3.0984664  maxlinkdim=10 maxerr=2.89E-04 time=0.081\n",
      "After sweep 2 energy=-3.0987165  maxlinkdim=19 maxerr=1.05E-07 time=0.092\n",
      "After sweep 3 energy=-3.0987184  maxlinkdim=27 maxerr=5.84E-08 time=0.056\n",
      "After sweep 4 energy=-3.0987191  maxlinkdim=30 maxerr=4.34E-08 time=0.061\n",
      "After sweep 5 energy=-3.0987194  maxlinkdim=18 maxerr=2.08E-07 time=0.056\n",
      "After sweep 6 energy=-3.0987186  maxlinkdim=22 maxerr=9.60E-08 time=0.056\n",
      "After sweep 7 energy=-3.0987165  maxlinkdim=23 maxerr=4.49E-08 time=0.076\n",
      "After sweep 8 energy=-3.0987186  maxlinkdim=27 maxerr=1.58E-07 time=0.055\n",
      "After sweep 9 energy=-3.098719  maxlinkdim=24 maxerr=6.65E-08 time=0.052\n",
      "After sweep 10 energy=-3.0987182  maxlinkdim=23 maxerr=2.22E-07 time=0.056\n",
      "After sweep 11 energy=-3.09872  maxlinkdim=26 maxerr=1.42E-07 time=0.048\n",
      "After sweep 12 energy=-3.0987177  maxlinkdim=23 maxerr=1.13E-07 time=0.048\n",
      "After sweep 13 energy=-3.0987158  maxlinkdim=24 maxerr=3.27E-08 time=0.065\n",
      "After sweep 14 energy=-3.0987158  maxlinkdim=23 maxerr=4.27E-08 time=0.057\n",
      "After sweep 15 energy=-3.0987175  maxlinkdim=15 maxerr=8.36E-08 time=0.059\n",
      "After sweep 16 energy=-3.0987206  maxlinkdim=23 maxerr=8.51E-08 time=0.052\n",
      "After sweep 17 energy=-3.0987182  maxlinkdim=24 maxerr=2.03E-07 time=0.050\n",
      "After sweep 18 energy=-3.0987182  maxlinkdim=22 maxerr=8.30E-08 time=0.064\n",
      "After sweep 19 energy=-3.0987186  maxlinkdim=26 maxerr=3.65E-08 time=0.052\n",
      "After sweep 20 energy=-3.0987206  maxlinkdim=21 maxerr=2.22E-07 time=0.047\n",
      "After sweep 21 energy=-3.0987184  maxlinkdim=24 maxerr=9.77E-08 time=0.047\n",
      "After sweep 22 energy=-3.0987153  maxlinkdim=28 maxerr=3.55E-08 time=0.048\n",
      "After sweep 23 energy=-3.0987198  maxlinkdim=26 maxerr=4.63E-08 time=0.049\n",
      "After sweep 24 energy=-3.0987172  maxlinkdim=27 maxerr=8.36E-08 time=0.072\n",
      "After sweep 25 energy=-3.0987194  maxlinkdim=26 maxerr=1.04E-07 time=0.046\n",
      "After sweep 26 energy=-3.0987206  maxlinkdim=26 maxerr=5.62E-08 time=0.048\n",
      "After sweep 27 energy=-3.098719  maxlinkdim=28 maxerr=2.01E-07 time=0.048\n",
      "After sweep 28 energy=-3.098722  maxlinkdim=23 maxerr=3.37E-09 time=0.056\n",
      "After sweep 29 energy=-3.0987191  maxlinkdim=25 maxerr=1.86E-07 time=0.076\n",
      "After sweep 30 energy=-3.0987184  maxlinkdim=28 maxerr=2.28E-07 time=0.062\n"
     ]
    },
    {
     "data": {
      "text/plain": [
       "(-3.0987184f0, MPS\n",
       "[1] ((dim=2|id=34|\"Link,l=1\"), (dim=2|id=434|\"S=1/2,Site,n=1\"))\n",
       "[2] ((dim=4|id=303|\"Link,l=2\"), (dim=2|id=399|\"S=1/2,Site,n=2\"), (dim=2|id=34|\"Link,l=1\"))\n",
       "[3] ((dim=2|id=103|\"S=1/2,Site,n=3\"), (dim=7|id=242|\"Link,l=3\"), (dim=4|id=303|\"Link,l=2\"))\n",
       "[4] ((dim=2|id=612|\"S=1/2,Site,n=4\"), (dim=7|id=354|\"Link,l=4\"), (dim=7|id=242|\"Link,l=3\"))\n",
       "[5] ((dim=2|id=288|\"S=1/2,Site,n=5\"), (dim=28|id=321|\"Link,l=5\"), (dim=7|id=354|\"Link,l=4\"))\n",
       "[6] ((dim=2|id=112|\"S=1/2,Site,n=6\"), (dim=15|id=490|\"Link,l=6\"), (dim=28|id=321|\"Link,l=5\"))\n",
       "[7] ((dim=2|id=884|\"S=1/2,Site,n=7\"), (dim=8|id=482|\"Link,l=7\"), (dim=15|id=490|\"Link,l=6\"))\n",
       "[8] ((dim=2|id=987|\"S=1/2,Site,n=8\"), (dim=4|id=555|\"Link,l=8\"), (dim=8|id=482|\"Link,l=7\"))\n",
       "[9] ((dim=2|id=491|\"S=1/2,Site,n=9\"), (dim=2|id=813|\"Link,l=9\"), (dim=4|id=555|\"Link,l=8\"))\n",
       "[10] ((dim=2|id=275|\"S=1/2,Site,n=10\"), (dim=2|id=813|\"Link,l=9\"))\n",
       ")"
      ]
     },
     "metadata": {},
     "output_type": "display_data"
    }
   ],
   "source": [
    "energy0,psi0 = dmrg(H,psi0_init;nsweeps,maxdim,cutoff)"
   ]
  },
  {
   "cell_type": "code",
   "execution_count": 19,
   "metadata": {},
   "outputs": [],
   "source": [
    "# psi_contracted = contract(psi)"
   ]
  },
  {
   "cell_type": "code",
   "execution_count": 24,
   "metadata": {},
   "outputs": [
    {
     "name": "stdout",
     "output_type": "stream",
     "text": [
      "After sweep 1 energy=-2.7535646948089076  maxlinkdim=10 maxerr=9.45E-04 time=18.348\n",
      "After sweep 2 energy=-2.7541750745227915  maxlinkdim=15 maxerr=8.78E-11 time=0.105\n",
      "After sweep 3 energy=-2.754176051471301  maxlinkdim=13 maxerr=8.41E-11 time=0.100\n",
      "After sweep 4 energy=-2.754176052427807  maxlinkdim=13 maxerr=9.58E-11 time=0.086\n",
      "After sweep 5 energy=-2.7541760524274626  maxlinkdim=13 maxerr=7.15E-11 time=0.089\n",
      "After sweep 6 energy=-2.7541760524274657  maxlinkdim=13 maxerr=7.06E-11 time=0.099\n",
      "After sweep 7 energy=-2.7541760524274714  maxlinkdim=13 maxerr=7.06E-11 time=0.075\n",
      "After sweep 8 energy=-2.7541760524274728  maxlinkdim=13 maxerr=7.06E-11 time=0.073\n",
      "After sweep 9 energy=-2.7541760524274737  maxlinkdim=13 maxerr=7.06E-11 time=0.072\n",
      "After sweep 10 energy=-2.7541760524274714  maxlinkdim=13 maxerr=7.06E-11 time=0.101\n",
      "After sweep 11 energy=-2.7541760524274737  maxlinkdim=13 maxerr=7.06E-11 time=0.068\n",
      "After sweep 12 energy=-2.754176052427469  maxlinkdim=13 maxerr=7.06E-11 time=0.064\n",
      "After sweep 13 energy=-2.754176052427473  maxlinkdim=13 maxerr=7.06E-11 time=0.065\n",
      "After sweep 14 energy=-2.7541760524274785  maxlinkdim=13 maxerr=7.06E-11 time=0.065\n",
      "After sweep 15 energy=-2.7541760524274777  maxlinkdim=13 maxerr=7.06E-11 time=0.090\n",
      "After sweep 16 energy=-2.7541760524274705  maxlinkdim=13 maxerr=7.06E-11 time=0.069\n",
      "After sweep 17 energy=-2.7541760524274723  maxlinkdim=13 maxerr=7.06E-11 time=0.066\n",
      "After sweep 18 energy=-2.754176052427471  maxlinkdim=13 maxerr=7.06E-11 time=0.065\n",
      "After sweep 19 energy=-2.7541760524274688  maxlinkdim=13 maxerr=7.06E-11 time=0.083\n",
      "After sweep 20 energy=-2.7541760524274728  maxlinkdim=13 maxerr=7.06E-11 time=0.077\n",
      "After sweep 21 energy=-2.7541760524274688  maxlinkdim=13 maxerr=7.06E-11 time=0.063\n",
      "After sweep 22 energy=-2.754176052427471  maxlinkdim=13 maxerr=7.06E-11 time=0.059\n",
      "After sweep 23 energy=-2.7541760524274745  maxlinkdim=13 maxerr=7.06E-11 time=0.062\n",
      "After sweep 24 energy=-2.7541760524274697  maxlinkdim=13 maxerr=7.06E-11 time=0.085\n",
      "After sweep 25 energy=-2.7541760524274723  maxlinkdim=13 maxerr=7.06E-11 time=0.062\n",
      "After sweep 26 energy=-2.7541760524274683  maxlinkdim=13 maxerr=7.06E-11 time=0.064\n",
      "After sweep 27 energy=-2.7541760524274737  maxlinkdim=13 maxerr=7.06E-11 time=0.070\n",
      "After sweep 28 energy=-2.754176052427472  maxlinkdim=13 maxerr=7.06E-11 time=0.066\n",
      "After sweep 29 energy=-2.7541760524274643  maxlinkdim=13 maxerr=7.06E-11 time=0.089\n",
      "After sweep 30 energy=-2.7541760524274754  maxlinkdim=13 maxerr=7.06E-11 time=0.067\n"
     ]
    },
    {
     "data": {
      "text/plain": [
       "(-2.7541760524274754, MPS\n",
       "[1] ((dim=2|id=538|\"Link,l=1\"), (dim=2|id=434|\"S=1/2,Site,n=1\"))\n",
       "[2] ((dim=4|id=594|\"Link,l=2\"), (dim=2|id=399|\"S=1/2,Site,n=2\"), (dim=2|id=538|\"Link,l=1\"))\n",
       "[3] ((dim=2|id=103|\"S=1/2,Site,n=3\"), (dim=8|id=953|\"Link,l=3\"), (dim=4|id=594|\"Link,l=2\"))\n",
       "[4] ((dim=2|id=612|\"S=1/2,Site,n=4\"), (dim=11|id=482|\"Link,l=4\"), (dim=8|id=953|\"Link,l=3\"))\n",
       "[5] ((dim=2|id=288|\"S=1/2,Site,n=5\"), (dim=13|id=233|\"Link,l=5\"), (dim=11|id=482|\"Link,l=4\"))\n",
       "[6] ((dim=2|id=112|\"S=1/2,Site,n=6\"), (dim=10|id=293|\"Link,l=6\"), (dim=13|id=233|\"Link,l=5\"))\n",
       "[7] ((dim=2|id=884|\"S=1/2,Site,n=7\"), (dim=8|id=970|\"Link,l=7\"), (dim=10|id=293|\"Link,l=6\"))\n",
       "[8] ((dim=2|id=987|\"S=1/2,Site,n=8\"), (dim=4|id=856|\"Link,l=8\"), (dim=8|id=970|\"Link,l=7\"))\n",
       "[9] ((dim=2|id=491|\"S=1/2,Site,n=9\"), (dim=2|id=158|\"Link,l=9\"), (dim=4|id=856|\"Link,l=8\"))\n",
       "[10] ((dim=2|id=275|\"S=1/2,Site,n=10\"), (dim=2|id=158|\"Link,l=9\"))\n",
       ")"
      ]
     },
     "metadata": {},
     "output_type": "display_data"
    }
   ],
   "source": [
    "psi1_init = cu(random_mps(sites, linkdims = 10))\n",
    "emergy1,psi1 = dmrg(H,[psi0],psi1_init;nsweeps,maxdim,cutoff)"
   ]
  },
  {
   "cell_type": "markdown",
   "metadata": {},
   "source": [
    "## Quantum Number Conserving"
   ]
  },
  {
   "cell_type": "code",
   "execution_count": 28,
   "metadata": {},
   "outputs": [],
   "source": [
    "using BenchmarkTools"
   ]
  },
  {
   "cell_type": "code",
   "execution_count": 31,
   "metadata": {},
   "outputs": [
    {
     "data": {
      "text/plain": [
       "BenchmarkTools.Trial: 10000 samples with 9 evaluations.\n",
       " Range \u001b[90m(\u001b[39m\u001b[36m\u001b[1mmin\u001b[22m\u001b[39m … \u001b[35mmax\u001b[39m\u001b[90m):  \u001b[39m\u001b[36m\u001b[1m2.356 μs\u001b[22m\u001b[39m … \u001b[35m 3.766 ms\u001b[39m  \u001b[90m┊\u001b[39m GC \u001b[90m(\u001b[39mmin … max\u001b[90m): \u001b[39m 0.00% … 99.76%\n",
       " Time  \u001b[90m(\u001b[39m\u001b[34m\u001b[1mmedian\u001b[22m\u001b[39m\u001b[90m):     \u001b[39m\u001b[34m\u001b[1m4.944 μs              \u001b[22m\u001b[39m\u001b[90m┊\u001b[39m GC \u001b[90m(\u001b[39mmedian\u001b[90m):    \u001b[39m 0.00%\n",
       " Time  \u001b[90m(\u001b[39m\u001b[32m\u001b[1mmean\u001b[22m\u001b[39m ± \u001b[32mσ\u001b[39m\u001b[90m):   \u001b[39m\u001b[32m\u001b[1m5.682 μs\u001b[22m\u001b[39m ± \u001b[32m55.998 μs\u001b[39m  \u001b[90m┊\u001b[39m GC \u001b[90m(\u001b[39mmean ± σ\u001b[90m):  \u001b[39m16.71% ±  1.73%\n",
       "\n",
       "  \u001b[39m▇\u001b[39m▇\u001b[39m \u001b[39m \u001b[39m \u001b[39m \u001b[39m \u001b[39m \u001b[39m \u001b[39m \u001b[39m \u001b[39m \u001b[39m \u001b[39m \u001b[39m \u001b[39m \u001b[39m \u001b[39m \u001b[39m▆\u001b[39m█\u001b[39m▆\u001b[34m▅\u001b[39m\u001b[39m▅\u001b[39m▅\u001b[39m▃\u001b[39m \u001b[39m \u001b[32m \u001b[39m\u001b[39m \u001b[39m \u001b[39m \u001b[39m \u001b[39m \u001b[39m \u001b[39m \u001b[39m \u001b[39m \u001b[39m \u001b[39m \u001b[39m \u001b[39m \u001b[39m \u001b[39m \u001b[39m \u001b[39m \u001b[39m \u001b[39m \u001b[39m \u001b[39m \u001b[39m \u001b[39m \u001b[39m \u001b[39m \u001b[39m \u001b[39m \u001b[39m \u001b[39m \u001b[39m \u001b[39m \u001b[39m \n",
       "  \u001b[39m█\u001b[39m█\u001b[39m▆\u001b[39m▂\u001b[39m▁\u001b[39m▂\u001b[39m▂\u001b[39m▁\u001b[39m▁\u001b[39m▁\u001b[39m▁\u001b[39m▁\u001b[39m▁\u001b[39m▁\u001b[39m▁\u001b[39m▁\u001b[39m▂\u001b[39m▇\u001b[39m█\u001b[39m█\u001b[39m█\u001b[34m█\u001b[39m\u001b[39m█\u001b[39m█\u001b[39m█\u001b[39m█\u001b[39m▆\u001b[32m▅\u001b[39m\u001b[39m▄\u001b[39m▃\u001b[39m▂\u001b[39m▂\u001b[39m▂\u001b[39m▂\u001b[39m▁\u001b[39m▂\u001b[39m▁\u001b[39m▁\u001b[39m▁\u001b[39m▁\u001b[39m▁\u001b[39m▁\u001b[39m▁\u001b[39m▁\u001b[39m▁\u001b[39m▁\u001b[39m▁\u001b[39m▁\u001b[39m▁\u001b[39m▁\u001b[39m▁\u001b[39m▁\u001b[39m▁\u001b[39m▁\u001b[39m▁\u001b[39m▁\u001b[39m▁\u001b[39m▁\u001b[39m \u001b[39m▃\n",
       "  2.36 μs\u001b[90m        Histogram: frequency by time\u001b[39m         9.6 μs \u001b[0m\u001b[1m<\u001b[22m\n",
       "\n",
       " Memory estimate\u001b[90m: \u001b[39m\u001b[33m13.68 KiB\u001b[39m, allocs estimate\u001b[90m: \u001b[39m\u001b[33m113\u001b[39m."
      ]
     },
     "metadata": {},
     "output_type": "display_data"
    }
   ],
   "source": [
    "@benchmark siteqnc = siteinds(\"S=1/2\", 5, conserve_qns = true)"
   ]
  },
  {
   "cell_type": "code",
   "execution_count": 40,
   "metadata": {},
   "outputs": [
    {
     "data": {
      "text/plain": [
       "BenchmarkTools.Trial: 10000 samples with 1 evaluation.\n",
       " Range \u001b[90m(\u001b[39m\u001b[36m\u001b[1mmin\u001b[22m\u001b[39m … \u001b[35mmax\u001b[39m\u001b[90m):  \u001b[39m\u001b[36m\u001b[1m 8.400 μs\u001b[22m\u001b[39m … \u001b[35m503.900 μs\u001b[39m  \u001b[90m┊\u001b[39m GC \u001b[90m(\u001b[39mmin … max\u001b[90m): \u001b[39m0.00% … 0.00%\n",
       " Time  \u001b[90m(\u001b[39m\u001b[34m\u001b[1mmedian\u001b[22m\u001b[39m\u001b[90m):     \u001b[39m\u001b[34m\u001b[1m10.300 μs               \u001b[22m\u001b[39m\u001b[90m┊\u001b[39m GC \u001b[90m(\u001b[39mmedian\u001b[90m):    \u001b[39m0.00%\n",
       " Time  \u001b[90m(\u001b[39m\u001b[32m\u001b[1mmean\u001b[22m\u001b[39m ± \u001b[32mσ\u001b[39m\u001b[90m):   \u001b[39m\u001b[32m\u001b[1m13.563 μs\u001b[22m\u001b[39m ± \u001b[32m 25.775 μs\u001b[39m  \u001b[90m┊\u001b[39m GC \u001b[90m(\u001b[39mmean ± σ\u001b[90m):  \u001b[39m0.00% ± 0.00%\n",
       "\n",
       "  \u001b[39m \u001b[39m▂\u001b[39m█\u001b[34m▇\u001b[39m\u001b[39m▅\u001b[39m▄\u001b[39m▂\u001b[39m▂\u001b[32m▁\u001b[39m\u001b[39m▁\u001b[39m▁\u001b[39m \u001b[39m \u001b[39m \u001b[39m \u001b[39m \u001b[39m \u001b[39m \u001b[39m \u001b[39m \u001b[39m \u001b[39m \u001b[39m \u001b[39m \u001b[39m \u001b[39m \u001b[39m \u001b[39m \u001b[39m \u001b[39m \u001b[39m \u001b[39m \u001b[39m \u001b[39m \u001b[39m \u001b[39m \u001b[39m \u001b[39m \u001b[39m \u001b[39m \u001b[39m \u001b[39m \u001b[39m \u001b[39m \u001b[39m \u001b[39m \u001b[39m \u001b[39m \u001b[39m \u001b[39m \u001b[39m \u001b[39m \u001b[39m \u001b[39m \u001b[39m \u001b[39m \u001b[39m \u001b[39m \u001b[39m \u001b[39m \u001b[39m \u001b[39m▁\n",
       "  \u001b[39m▅\u001b[39m█\u001b[39m█\u001b[34m█\u001b[39m\u001b[39m█\u001b[39m█\u001b[39m█\u001b[39m█\u001b[32m█\u001b[39m\u001b[39m█\u001b[39m█\u001b[39m█\u001b[39m▇\u001b[39m▇\u001b[39m▇\u001b[39m▇\u001b[39m▇\u001b[39m▆\u001b[39m▆\u001b[39m▆\u001b[39m▆\u001b[39m▅\u001b[39m▆\u001b[39m▄\u001b[39m▄\u001b[39m▄\u001b[39m▆\u001b[39m▅\u001b[39m▆\u001b[39m▇\u001b[39m▆\u001b[39m▆\u001b[39m▅\u001b[39m▅\u001b[39m▅\u001b[39m▆\u001b[39m▆\u001b[39m▅\u001b[39m▄\u001b[39m▄\u001b[39m▄\u001b[39m▄\u001b[39m▅\u001b[39m▅\u001b[39m▆\u001b[39m▄\u001b[39m▄\u001b[39m▄\u001b[39m▃\u001b[39m▄\u001b[39m▅\u001b[39m▃\u001b[39m▅\u001b[39m▄\u001b[39m▄\u001b[39m▄\u001b[39m▅\u001b[39m▄\u001b[39m▄\u001b[39m▅\u001b[39m \u001b[39m█\n",
       "  8.4 μs\u001b[90m        \u001b[39m\u001b[90mHistogram: \u001b[39m\u001b[90m\u001b[1mlog(\u001b[22m\u001b[39m\u001b[90mfrequency\u001b[39m\u001b[90m\u001b[1m)\u001b[22m\u001b[39m\u001b[90m by time\u001b[39m      47.6 μs \u001b[0m\u001b[1m<\u001b[22m\n",
       "\n",
       " Memory estimate\u001b[90m: \u001b[39m\u001b[33m13.96 KiB\u001b[39m, allocs estimate\u001b[90m: \u001b[39m\u001b[33m123\u001b[39m."
      ]
     },
     "metadata": {},
     "output_type": "display_data"
    }
   ],
   "source": [
    "@benchmark siteqnc = cu(siteinds(\"S=1/2\", 5, conserve_qns = true))"
   ]
  },
  {
   "cell_type": "code",
   "execution_count": 39,
   "metadata": {},
   "outputs": [
    {
     "data": {
      "text/plain": [
       "5-element CuArray{Index{Vector{Pair{QN, Int64}}}, 1, CUDA.DeviceMemory}:\n",
       " (dim=2|id=40|\"S=1/2,Site,n=1\") <Out>\n",
       " 1: QN(\"Sz\",1) => 1\n",
       " 2: QN(\"Sz\",-1) => 1\n",
       " (dim=2|id=289|\"S=1/2,Site,n=2\") <Out>\n",
       " 1: QN(\"Sz\",1) => 1\n",
       " 2: QN(\"Sz\",-1) => 1\n",
       " (dim=2|id=267|\"S=1/2,Site,n=3\") <Out>\n",
       " 1: QN(\"Sz\",1) => 1\n",
       " 2: QN(\"Sz\",-1) => 1\n",
       " (dim=2|id=263|\"S=1/2,Site,n=4\") <Out>\n",
       " 1: QN(\"Sz\",1) => 1\n",
       " 2: QN(\"Sz\",-1) => 1\n",
       " (dim=2|id=201|\"S=1/2,Site,n=5\") <Out>\n",
       " 1: QN(\"Sz\",1) => 1\n",
       " 2: QN(\"Sz\",-1) => 1"
      ]
     },
     "metadata": {},
     "output_type": "display_data"
    }
   ],
   "source": [
    "siteqnc = cu(siteinds(\"S=1/2\", 5, conserve_qns = true))\n",
    "siteqnc"
   ]
  },
  {
   "cell_type": "markdown",
   "metadata": {},
   "source": [
    "# PDF of Schwinger Model with Time evolving MPS"
   ]
  },
  {
   "cell_type": "code",
   "execution_count": 42,
   "metadata": {},
   "outputs": [
    {
     "data": {
      "text/plain": [
       "time_evolve (generic function with 2 methods)"
      ]
     },
     "metadata": {},
     "output_type": "display_data"
    }
   ],
   "source": [
    "function time_evolve(site, N, delta_t)\n",
    "    gates = ITensor[]\n",
    "    for j in 1:N-1\n",
    "        s1 = site[j]\n",
    "        s2 = site[j+1]\n",
    "\n",
    "        h_n = 1/(2*a)*op(\"S+\", s1)*op(\"S-\", s2) + 1/(2*a)*op(\"S+\", s2)*op(\"S-\", s1) \n",
    "            + (-1)^j*m_lat/2*op(\"Z\", s1) + (-1)^(j+1)*m_lat/2*op(\"Z\", s2)\n",
    "            + \n",
    "        \n",
    "        for k in 1:j\n",
    "            h_n += g^2*a/4*(-1)^k*op(\"Z\", k)\n",
    "            h_n += g^2*a/4*op(\"Id\", 1)\n",
    "            for i in 1:k-1\n",
    "                h_n += g^2*a/4*op(\"Z\", i)*op(\"Z\", k)\n",
    "                h_n += g^2*a/4*(-1)^(i+k)*op(\"Id\", 1)\n",
    "                h_n += g^2*a/4*(-1)^k*op(\"Z\", i)\n",
    "                h_n += g^2*a/4*(-1)^i*op(\"Z\", k)\n",
    "            end\n",
    "        end\n",
    "        G_j = exp(-im*h_n*delta_t)\n",
    "        push!(gates, G_j)\n",
    "    end\n",
    "end\n",
    "    "
   ]
  }
 ],
 "metadata": {
  "kernelspec": {
   "display_name": "Julia 1.11.0",
   "language": "julia",
   "name": "julia-1.11"
  },
  "language_info": {
   "file_extension": ".jl",
   "mimetype": "application/julia",
   "name": "julia",
   "version": "1.11.0"
  }
 },
 "nbformat": 4,
 "nbformat_minor": 2
}
